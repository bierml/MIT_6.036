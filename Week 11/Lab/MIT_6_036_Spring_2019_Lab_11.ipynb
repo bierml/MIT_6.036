{
  "nbformat": 4,
  "nbformat_minor": 0,
  "metadata": {
    "colab": {
      "provenance": [],
      "toc_visible": true
    },
    "kernelspec": {
      "name": "python3",
      "display_name": "Python 3"
    }
  },
  "cells": [
    {
      "cell_type": "markdown",
      "metadata": {
        "id": "2XozwtJgh1-u"
      },
      "source": [
        "# **MIT 6.036 Spring 2019: Lab 11**\n",
        "\n",
        "This colab notebook provides code and a framework for sections 2 and 3 of the lab.\n",
        "\n",
        "## **Setup**\n",
        "\n",
        "First, download the code distribution for this homework that contains test cases and helper functions.\n",
        "\n",
        "Run the next code block to download and import the code for this lab."
      ]
    },
    {
      "cell_type": "code",
      "metadata": {
        "id": "rCJPrb3KhPmw",
        "outputId": "6bbf3a39-e45d-4e85-ece5-c609949ea608",
        "colab": {
          "base_uri": "https://localhost:8080/"
        }
      },
      "source": [
        "import os\n",
        "os.chdir('/content')\n",
        "\n",
        "!rm -rf code_for_lab11*\n",
        "!wget --no-check-certificate --quiet 'https://docs.google.com/uc?export=download&id=1Vulz4qawb2zOEeYHCXKOHkI0AMmITwBf' -O code_for_lab11.zip\n",
        "!unzip code_for_lab11.zip\n",
        "\n",
        "import os\n",
        "os.chdir('/content/code_for_lab11')\n",
        "os.getcwd()\n",
        "\n",
        "from sm import *\n",
        "from util import *\n",
        "from code_for_lab11 import *\n",
        "import numpy as np\n",
        "import _pickle as cPickle\n",
        "m = cPickle.load(open('models/food_rnn.p', 'rb'))"
      ],
      "execution_count": 1,
      "outputs": [
        {
          "output_type": "stream",
          "name": "stdout",
          "text": [
            "Archive:  code_for_lab11.zip\n",
            "   creating: code_for_lab11/\n",
            "  inflating: code_for_lab11/code_for_lab11.py  \n",
            "  inflating: code_for_lab11/metal_bands.txt  \n",
            "  inflating: code_for_lab11/companies.txt  \n",
            "   creating: __MACOSX/\n",
            "   creating: __MACOSX/code_for_lab11/\n",
            "  inflating: __MACOSX/code_for_lab11/._companies.txt  \n",
            "  inflating: code_for_lab11/.DS_Store  \n",
            "  inflating: code_for_lab11/MIT_classes.txt  \n",
            "  inflating: __MACOSX/code_for_lab11/._MIT_classes.txt  \n",
            "  inflating: code_for_lab11/util.py  \n",
            "   creating: code_for_lab11/__pycache__/\n",
            "  inflating: code_for_lab11/__pycache__/util.cpython-35.pyc  \n",
            "   creating: __MACOSX/code_for_lab11/__pycache__/\n",
            "  inflating: __MACOSX/code_for_lab11/__pycache__/._util.cpython-35.pyc  \n",
            "  inflating: code_for_lab11/__pycache__/sm.cpython-35.pyc  \n",
            "  inflating: __MACOSX/code_for_lab11/__pycache__/._sm.cpython-35.pyc  \n",
            "  inflating: code_for_lab11/__pycache__/code_for_lab11.cpython-35.pyc  \n",
            "  inflating: __MACOSX/code_for_lab11/__pycache__/._code_for_lab11.cpython-35.pyc  \n",
            "  inflating: code_for_lab11/__pycache__/util.cpython-37.pyc  \n",
            "  inflating: code_for_lab11/__pycache__/sm.cpython-37.pyc  \n",
            "  inflating: code_for_lab11/sm.py    \n",
            "  inflating: code_for_lab11/baskervilles.txt  \n",
            "  inflating: code_for_lab11/basicEnglish.txt  \n",
            "  inflating: code_for_lab11/simple_poem.txt  \n",
            "  inflating: code_for_lab11/food.txt  \n",
            "  inflating: code_for_lab11/mousquetaires.txt  \n",
            "   creating: code_for_lab11/models/\n",
            "  inflating: code_for_lab11/models/food_rnn.p  \n",
            "  inflating: code_for_lab11/models/metal_rnn.p  \n",
            "  inflating: code_for_lab11/models/MIT_classes_rnn.p  \n",
            "  inflating: code_for_lab11/models/companies_rnn.p  \n",
            "  inflating: __MACOSX/._code_for_lab11  \n"
          ]
        }
      ]
    },
    {
      "cell_type": "markdown",
      "metadata": {
        "id": "nOp2ZR1Nlc92"
      },
      "source": [
        "## **Section 2, Problem B**\n",
        "\n",
        "Below, you will find definitions of a procedure called *test_linear_accumulator* for training an rnn with input and output sequences of the kind produced by Accumulator. (Alternatively, you can look at *code_for_lab11.py* of the code file available for download) Study this function, in particular, the definition of the RNN instance; compare to your choices in the previous question."
      ]
    },
    {
      "cell_type": "code",
      "metadata": {
        "id": "Otw09SGC1gk3"
      },
      "source": [
        "# please evaluate this cell to see its output\n",
        "\n",
        "def test_linear_accumulator(num_steps = 10000,\n",
        "                            num_seqs = 100, seq_length = 5,\n",
        "                            step_size = .01):\n",
        "    # generate random training data: num_seqs of seq_length of random\n",
        "    # numbers between -0.5 and 0.5.\n",
        "    data = []\n",
        "    for _ in range(num_seqs):\n",
        "        x = np.random.random((1, seq_length)) - 0.5 # seq in\n",
        "        y = np.zeros((1, seq_length))               # seq out\n",
        "        for j in range(seq_length):\n",
        "            y[0, j] = x[0, j] + (0.0 if j == 0 else y[0, j-1])\n",
        "        data.append((x, y))\n",
        "    # specify rnn\n",
        "    rnn = RNN(1, 1, 1, quadratic_loss, lambda z: z, quadratic_linear_gradient,\n",
        "              step_size, lambda z: z, lambda z: 1)\n",
        "    # train it\n",
        "    rnn.train_seq_to_seq(data, num_steps)\n",
        "    # print weights\n",
        "    print(\"Wsx: \", rnn.Wsx); print(\"Wss: \", rnn.Wss); print(\"Wo: \", rnn.Wo); print(\"Wss0: \", rnn.Wss0); print(\"Wo0: \", rnn.Wo0)\n",
        "    return rnn\n"
      ],
      "execution_count": null,
      "outputs": []
    },
    {
      "cell_type": "markdown",
      "metadata": {
        "id": "Z-OD7bEq1pSL"
      },
      "source": [
        "Now run this function a few times, making sure that the training error is low and look at the final weights. Relate to the weights you chose above. Explain."
      ]
    },
    {
      "cell_type": "code",
      "metadata": {
        "id": "t1QR46mE1Vzj",
        "outputId": "cae1e231-16c1-456a-916e-32020c685b1f",
        "colab": {
          "base_uri": "https://localhost:8080/"
        }
      },
      "source": [
        "test_linear_accumulator()"
      ],
      "execution_count": 3,
      "outputs": [
        {
          "output_type": "stream",
          "name": "stdout",
          "text": [
            "1/10: training error 0.012755083645354683\n",
            "2/10: training error 5.712685256489603e-16\n",
            "3/10: training error 4.374785157309898e-33\n",
            "4/10: training error 0.00020221500117109764\n",
            "5/10: training error 0.00035061083011949425\n",
            "6/10: training error 3.893488818359178e-26\n",
            "7/10: training error 2.886288219654336e-33\n",
            "8/10: training error 0.0002849664389310026\n",
            "9/10: training error 3.375532648032591e-08\n",
            "Wsx:  [[1.41553726]]\n",
            "Wss:  [[1.]]\n",
            "Wo:  [[0.70644555]]\n",
            "Wss0:  [[-1.40037146e-13]]\n",
            "Wo0:  [[-2.91244486e-15]]\n"
          ]
        },
        {
          "output_type": "execute_result",
          "data": {
            "text/plain": [
              "<code_for_lab11.RNN at 0x79f13815f520>"
            ]
          },
          "metadata": {},
          "execution_count": 3
        }
      ]
    },
    {
      "cell_type": "markdown",
      "metadata": {
        "id": "HZ629z-1xz4d"
      },
      "source": [
        "## **Section 3**"
      ]
    },
    {
      "cell_type": "markdown",
      "metadata": {
        "id": "FtbW_gHiyyAq"
      },
      "source": [
        "For each of\n",
        "\n",
        "*   \"aaaaaaaaaa\"\n",
        "*   \"aabaaabbaaaababaabaa\"\n",
        "*   \"abcdefghijklmnopqrstuvwxyz\"\n",
        "*   \"abcabcabcabcabc\"\n",
        "\n",
        "train an RNN and assess the difficulty of learning each string. You may control *num_hidden* and *num_steps* to facilitate your training in the code below.\n"
      ]
    },
    {
      "cell_type": "code",
      "metadata": {
        "id": "euRE-Zglzket",
        "outputId": "0a3c5bd6-c257-4080-dfd3-1db74c8b31d2",
        "colab": {
          "base_uri": "https://localhost:8080/"
        }
      },
      "source": [
        "test_word(\"aaaaaaaaaa\", interactive = False, num_hidden=1, num_steps=10000, step_size=0.005)"
      ],
      "execution_count": 4,
      "outputs": [
        {
          "output_type": "stream",
          "name": "stdout",
          "text": [
            "1/10: training error 0.2977114189890314\n",
            "2/10: training error 0.02877763943759602\n",
            "3/10: training error 0.008313193910610478\n",
            "4/10: training error 0.003972171581173482\n",
            "5/10: training error 0.0020719137899019246\n",
            "6/10: training error 0.001128295675489982\n",
            "7/10: training error 0.000629720336848323\n",
            "8/10: training error 0.0003568525666536045\n",
            "9/10: training error 0.00020427204802313733\n",
            "aaaaaaaaaa\n",
            "aaaaaaaaaa\n",
            "aaaaaaaaaa\n",
            "aaaaaaaaaa\n",
            "aaaaaaaaaa\n",
            "aaaaaaaaaa\n",
            "aaaaaaaaaa\n",
            "aaaaaaaaaa\n",
            "aaaaaaaaaa\n",
            "aaaaaaaaaa\n",
            "aaaaaaaaaa\n",
            "aaaaaaaaaa\n",
            "aaaaaaaaaa\n",
            "aaaaaaaaaa\n",
            "aaaaaaaaaa\n",
            "aaaaaaaaaa\n",
            "aaaaaaaaaa\n",
            "aaaaaaaaaa\n",
            "aaaaaaaaaa\n",
            "aaaaaaaaaa\n",
            "aaaaaaaaaa\n",
            "aaaaaaaaaa\n",
            "aaaaaaaaaa\n",
            "aaaaaaaaaa\n",
            "aaaaaaaaaa\n",
            "aaaaaaaaaa\n",
            "aaaaaaaaaa\n",
            "aaaaaaaaaa\n",
            "aaaaaaaaaa\n",
            "aaaaaaaaaa\n",
            "aaaaaaaaaa\n",
            "aaaaaaaaaa\n",
            "aaaaaaaaaa\n",
            "aaaaaaaaaa\n",
            "aaaaaaaaaa\n",
            "aaaaaaaaaa\n",
            "aaaaaaaaaa\n",
            "aaaaaaaaaa\n",
            "aaaaaaaaaa\n",
            "aaaaaaaaaa\n",
            "aaaaaaaaaa\n",
            "aaaaaaaaaa\n",
            "aaaaaaaaaa\n",
            "aaaaaaaaaa\n",
            "aaaaaaaaaa\n",
            "aaaaaaaaaa\n",
            "aaaaaaaaaa\n",
            "aaaaaaaaaa\n",
            "aaaaaaaaaa\n",
            "aaaaaaaaaa\n",
            "aaaaaaaaaa\n",
            "aaaaaaaaaa\n",
            "aaaaaaaaaa\n",
            "aaaaaaaaaa\n",
            "aaaaaaaaaa\n",
            "aaaaaaaaaa\n",
            "aaaaaaaaaa\n",
            "aaaaaaaaaa\n",
            "aaaaaaaaaa\n",
            "aaaaaaaaaa\n",
            "aaaaaaaaaa\n",
            "aaaaaaaaaa\n",
            "aaaaaaaaaa\n",
            "aaaaaaaaaa\n",
            "aaaaaaaaaa\n",
            "aaaaaaaaaa\n",
            "aaaaaaaaaa\n",
            "aaaaaaaaaa\n",
            "aaaaaaaaaa\n",
            "aaaaaaaaaa\n",
            "aaaaaaaaaa\n",
            "aaaaaaaaaa\n",
            "aaaaaaaaaa\n",
            "aaaaaaaaaa\n",
            "aaaaaaaaaa\n",
            "aaaaaaaaaa\n",
            "aaaaaaaaaa\n",
            "aaaaaaaaaa\n",
            "aaaaaaaaaa\n",
            "aaaaaaaaaa\n",
            "aaaaaaaaaa\n",
            "aaaaaaaaaa\n",
            "aaaaaaaaaa\n",
            "aaaaaaaaaa\n",
            "aaaaaaaaaa\n",
            "aaaaaaaaaa\n",
            "aaaaaaaaaa\n",
            "aaaaaaaaaa\n",
            "aaaaaaaaaa\n",
            "aaaaaaaaaa\n",
            "aaaaaaaaaa\n",
            "aaaaaaaaaa\n",
            "aaaaaaaaaa\n",
            "aaaaaaaaaa\n",
            "aaaaaaaaaa\n",
            "aaaaaaaaaa\n",
            "aaaaaaaaaa\n",
            "aaaaaaaaaa\n",
            "aaaaaaaaaa\n",
            "aaaaaaaaaa\n"
          ]
        },
        {
          "output_type": "execute_result",
          "data": {
            "text/plain": [
              "(<code_for_lab11.RNN at 0x79f13815ef80>,\n",
              " <code_for_lab11.OneHotCodec at 0x79f13815fa60>)"
            ]
          },
          "metadata": {},
          "execution_count": 4
        }
      ]
    },
    {
      "cell_type": "code",
      "metadata": {
        "id": "--_tiGbyzoCW",
        "colab": {
          "base_uri": "https://localhost:8080/",
          "height": 356
        },
        "outputId": "de199cc9-7bd5-43c7-9ad4-e46cb7ca4ef3"
      },
      "source": [
        "test_word(\"aabaaabbaaaababaabaa\", interactive = False, num_hidden=1, num_steps=10000, step_size=0.005)"
      ],
      "execution_count": 5,
      "outputs": [
        {
          "output_type": "stream",
          "name": "stdout",
          "text": [
            "1/10: training error 0.5504342424165499\n",
            "2/10: training error 0.3264964041402879\n",
            "3/10: training error 0.32262036129456234\n",
            "4/10: training error 0.3428889816081242\n"
          ]
        },
        {
          "output_type": "error",
          "ename": "KeyboardInterrupt",
          "evalue": "",
          "traceback": [
            "\u001b[0;31m---------------------------------------------------------------------------\u001b[0m",
            "\u001b[0;31mKeyboardInterrupt\u001b[0m                         Traceback (most recent call last)",
            "\u001b[0;32m<ipython-input-5-517f2cde47d4>\u001b[0m in \u001b[0;36m<cell line: 1>\u001b[0;34m()\u001b[0m\n\u001b[0;32m----> 1\u001b[0;31m \u001b[0mtest_word\u001b[0m\u001b[0;34m(\u001b[0m\u001b[0;34m\"aabaaabbaaaababaabaa\"\u001b[0m\u001b[0;34m,\u001b[0m \u001b[0minteractive\u001b[0m \u001b[0;34m=\u001b[0m \u001b[0;32mFalse\u001b[0m\u001b[0;34m,\u001b[0m \u001b[0mnum_hidden\u001b[0m\u001b[0;34m=\u001b[0m\u001b[0;36m1\u001b[0m\u001b[0;34m,\u001b[0m \u001b[0mnum_steps\u001b[0m\u001b[0;34m=\u001b[0m\u001b[0;36m10000\u001b[0m\u001b[0;34m,\u001b[0m \u001b[0mstep_size\u001b[0m\u001b[0;34m=\u001b[0m\u001b[0;36m0.005\u001b[0m\u001b[0;34m)\u001b[0m\u001b[0;34m\u001b[0m\u001b[0;34m\u001b[0m\u001b[0m\n\u001b[0m",
            "\u001b[0;32m/content/code_for_lab11/code_for_lab11.py\u001b[0m in \u001b[0;36mtest_word\u001b[0;34m(word, interactive, num_hidden, num_steps, step_size)\u001b[0m\n\u001b[1;32m    257\u001b[0m \u001b[0;34m\u001b[0m\u001b[0m\n\u001b[1;32m    258\u001b[0m \u001b[0;32mdef\u001b[0m \u001b[0mtest_word\u001b[0m\u001b[0;34m(\u001b[0m\u001b[0mword\u001b[0m\u001b[0;34m,\u001b[0m \u001b[0minteractive\u001b[0m \u001b[0;34m=\u001b[0m \u001b[0;32mFalse\u001b[0m\u001b[0;34m,\u001b[0m \u001b[0mnum_hidden\u001b[0m\u001b[0;34m=\u001b[0m\u001b[0;36m1\u001b[0m\u001b[0;34m,\u001b[0m \u001b[0mnum_steps\u001b[0m\u001b[0;34m=\u001b[0m\u001b[0;36m10000\u001b[0m\u001b[0;34m,\u001b[0m \u001b[0mstep_size\u001b[0m\u001b[0;34m=\u001b[0m\u001b[0;36m0.005\u001b[0m\u001b[0;34m)\u001b[0m\u001b[0;34m:\u001b[0m\u001b[0;34m\u001b[0m\u001b[0;34m\u001b[0m\u001b[0m\n\u001b[0;32m--> 259\u001b[0;31m     \u001b[0;32mreturn\u001b[0m \u001b[0mgenerate_seq\u001b[0m\u001b[0;34m(\u001b[0m\u001b[0;34m[\u001b[0m\u001b[0mword\u001b[0m\u001b[0;34m]\u001b[0m\u001b[0;34m,\u001b[0m \u001b[0mnum_hidden\u001b[0m\u001b[0;34m=\u001b[0m\u001b[0mnum_hidden\u001b[0m\u001b[0;34m,\u001b[0m \u001b[0mnum_steps\u001b[0m\u001b[0;34m=\u001b[0m\u001b[0mnum_steps\u001b[0m\u001b[0;34m,\u001b[0m \u001b[0mstep_size\u001b[0m\u001b[0;34m=\u001b[0m\u001b[0mstep_size\u001b[0m\u001b[0;34m)\u001b[0m\u001b[0;34m\u001b[0m\u001b[0;34m\u001b[0m\u001b[0m\n\u001b[0m\u001b[1;32m    260\u001b[0m \u001b[0;34m\u001b[0m\u001b[0m\n\u001b[1;32m    261\u001b[0m \u001b[0;31m# Learn models for two classes, then do classification.\u001b[0m\u001b[0;34m\u001b[0m\u001b[0;34m\u001b[0m\u001b[0m\n",
            "\u001b[0;32m/content/code_for_lab11/code_for_lab11.py\u001b[0m in \u001b[0;36mgenerate_seq\u001b[0;34m(words, num_steps, step_size, num_hidden, split, interactive, interactive_top5)\u001b[0m\n\u001b[1;32m    190\u001b[0m     \u001b[0;32melse\u001b[0m\u001b[0;34m:\u001b[0m\u001b[0;34m\u001b[0m\u001b[0;34m\u001b[0m\u001b[0m\n\u001b[1;32m    191\u001b[0m         \u001b[0mdata1\u001b[0m\u001b[0;34m,\u001b[0m \u001b[0mdata2\u001b[0m \u001b[0;34m=\u001b[0m \u001b[0mdata\u001b[0m\u001b[0;34m,\u001b[0m \u001b[0;32mNone\u001b[0m\u001b[0;34m\u001b[0m\u001b[0;34m\u001b[0m\u001b[0m\n\u001b[0;32m--> 192\u001b[0;31m     rnn = train_seq(data1, codec, num_steps = num_steps,\n\u001b[0m\u001b[1;32m    193\u001b[0m                     \u001b[0mstep_size\u001b[0m \u001b[0;34m=\u001b[0m \u001b[0mstep_size\u001b[0m\u001b[0;34m,\u001b[0m \u001b[0mnum_hidden\u001b[0m \u001b[0;34m=\u001b[0m \u001b[0mnum_hidden\u001b[0m\u001b[0;34m,\u001b[0m\u001b[0;34m\u001b[0m\u001b[0;34m\u001b[0m\u001b[0m\n\u001b[1;32m    194\u001b[0m                     interactive = interactive)\n",
            "\u001b[0;32m/content/code_for_lab11/code_for_lab11.py\u001b[0m in \u001b[0;36mtrain_seq\u001b[0;34m(data, codec, num_steps, step_size, num_hidden, interactive)\u001b[0m\n\u001b[1;32m    176\u001b[0m     \u001b[0mrnn\u001b[0m \u001b[0;34m=\u001b[0m  \u001b[0mRNN\u001b[0m\u001b[0;34m(\u001b[0m\u001b[0ml\u001b[0m\u001b[0;34m,\u001b[0m \u001b[0mm\u001b[0m\u001b[0;34m,\u001b[0m \u001b[0mn\u001b[0m\u001b[0;34m,\u001b[0m \u001b[0mloss\u001b[0m\u001b[0;34m,\u001b[0m \u001b[0mf2\u001b[0m\u001b[0;34m,\u001b[0m \u001b[0mdldz2\u001b[0m\u001b[0;34m,\u001b[0m \u001b[0mstep_size\u001b[0m\u001b[0;34m,\u001b[0m \u001b[0mf1\u001b[0m\u001b[0;34m,\u001b[0m \u001b[0mdf1\u001b[0m\u001b[0;34m)\u001b[0m\u001b[0;34m\u001b[0m\u001b[0;34m\u001b[0m\u001b[0m\n\u001b[1;32m    177\u001b[0m     \u001b[0;31m# train it\u001b[0m\u001b[0;34m\u001b[0m\u001b[0;34m\u001b[0m\u001b[0m\n\u001b[0;32m--> 178\u001b[0;31m     \u001b[0mrnn\u001b[0m\u001b[0;34m.\u001b[0m\u001b[0mtrain_seq_to_seq\u001b[0m\u001b[0;34m(\u001b[0m\u001b[0mdata\u001b[0m\u001b[0;34m,\u001b[0m \u001b[0mnum_steps\u001b[0m\u001b[0;34m)\u001b[0m\u001b[0;34m\u001b[0m\u001b[0;34m\u001b[0m\u001b[0m\n\u001b[0m\u001b[1;32m    179\u001b[0m     \u001b[0;32mreturn\u001b[0m \u001b[0mrnn\u001b[0m\u001b[0;34m\u001b[0m\u001b[0;34m\u001b[0m\u001b[0m\n\u001b[1;32m    180\u001b[0m \u001b[0;34m\u001b[0m\u001b[0m\n",
            "\u001b[0;32m/content/code_for_lab11/code_for_lab11.py\u001b[0m in \u001b[0;36mtrain_seq_to_seq\u001b[0;34m(self, training_seqs, steps, print_interval)\u001b[0m\n\u001b[1;32m    527\u001b[0m             \u001b[0;31m# compare_grads(grads, grads_n)\u001b[0m\u001b[0;34m\u001b[0m\u001b[0;34m\u001b[0m\u001b[0m\n\u001b[1;32m    528\u001b[0m \u001b[0;34m\u001b[0m\u001b[0m\n\u001b[0;32m--> 529\u001b[0;31m             \u001b[0mself\u001b[0m\u001b[0;34m.\u001b[0m\u001b[0msgd_step\u001b[0m\u001b[0;34m(\u001b[0m\u001b[0mx\u001b[0m\u001b[0;34m,\u001b[0m \u001b[0mdLdZ2s\u001b[0m\u001b[0;34m,\u001b[0m \u001b[0mstates\u001b[0m\u001b[0;34m)\u001b[0m\u001b[0;34m\u001b[0m\u001b[0;34m\u001b[0m\u001b[0m\n\u001b[0m\u001b[1;32m    530\u001b[0m             \u001b[0mtotal_train_err\u001b[0m \u001b[0;34m+=\u001b[0m \u001b[0mavg_seq_train_error\u001b[0m\u001b[0;34m\u001b[0m\u001b[0;34m\u001b[0m\u001b[0m\n\u001b[1;32m    531\u001b[0m             \u001b[0;32mif\u001b[0m \u001b[0;34m(\u001b[0m\u001b[0mstep\u001b[0m \u001b[0;34m%\u001b[0m \u001b[0mprint_interval\u001b[0m\u001b[0;34m)\u001b[0m \u001b[0;34m==\u001b[0m \u001b[0;36m0\u001b[0m \u001b[0;32mand\u001b[0m \u001b[0mstep\u001b[0m \u001b[0;34m>\u001b[0m \u001b[0;36m0\u001b[0m\u001b[0;34m:\u001b[0m\u001b[0;34m\u001b[0m\u001b[0;34m\u001b[0m\u001b[0m\n",
            "\u001b[0;32m/content/code_for_lab11/code_for_lab11.py\u001b[0m in \u001b[0;36msgd_step\u001b[0;34m(self, xs, dLdz2s, states, gamma1, gamma2, fudge)\u001b[0m\n\u001b[1;32m    443\u001b[0m     def sgd_step(self, xs, dLdz2s, states,\n\u001b[1;32m    444\u001b[0m                  gamma1 = 0.9, gamma2 = 0.999, fudge = 1.0e-8):\n\u001b[0;32m--> 445\u001b[0;31m         \u001b[0mdWsx\u001b[0m\u001b[0;34m,\u001b[0m \u001b[0mdWss\u001b[0m\u001b[0;34m,\u001b[0m \u001b[0mdWo\u001b[0m\u001b[0;34m,\u001b[0m \u001b[0mdWss0\u001b[0m\u001b[0;34m,\u001b[0m \u001b[0mdWo0\u001b[0m \u001b[0;34m=\u001b[0m \u001b[0mself\u001b[0m\u001b[0;34m.\u001b[0m\u001b[0mb\u001b[0m\u001b[0;34m(\u001b[0m\u001b[0mxs\u001b[0m\u001b[0;34m,\u001b[0m \u001b[0mdLdz2s\u001b[0m\u001b[0;34m,\u001b[0m \u001b[0mstates\u001b[0m\u001b[0;34m)\u001b[0m\u001b[0;34m\u001b[0m\u001b[0;34m\u001b[0m\u001b[0m\n\u001b[0m\u001b[1;32m    446\u001b[0m \u001b[0;34m\u001b[0m\u001b[0m\n\u001b[1;32m    447\u001b[0m         \u001b[0mself\u001b[0m\u001b[0;34m.\u001b[0m\u001b[0mt\u001b[0m \u001b[0;34m+=\u001b[0m \u001b[0;36m1\u001b[0m\u001b[0;34m\u001b[0m\u001b[0;34m\u001b[0m\u001b[0m\n",
            "\u001b[0;32m/content/code_for_lab11/code_for_lab11.py\u001b[0m in \u001b[0;36mb\u001b[0;34m(self, xs, dL_dz2, states)\u001b[0m\n\u001b[1;32m    437\u001b[0m             \u001b[0mdB0\u001b[0m \u001b[0;34m+=\u001b[0m \u001b[0mdLtfuture_dB0\u001b[0m\u001b[0;34m\u001b[0m\u001b[0;34m\u001b[0m\u001b[0m\n\u001b[1;32m    438\u001b[0m             \u001b[0mdA\u001b[0m \u001b[0;34m+=\u001b[0m \u001b[0mdL_dA\u001b[0m\u001b[0;34m\u001b[0m\u001b[0;34m\u001b[0m\u001b[0m\n\u001b[0;32m--> 439\u001b[0;31m             \u001b[0mdA0\u001b[0m \u001b[0;34m+=\u001b[0m \u001b[0mdL_dA0\u001b[0m\u001b[0;34m\u001b[0m\u001b[0;34m\u001b[0m\u001b[0m\n\u001b[0m\u001b[1;32m    440\u001b[0m         \u001b[0;32mreturn\u001b[0m \u001b[0mdC\u001b[0m\u001b[0;34m,\u001b[0m \u001b[0mdB\u001b[0m\u001b[0;34m,\u001b[0m \u001b[0mdA\u001b[0m\u001b[0;34m,\u001b[0m \u001b[0mdB0\u001b[0m\u001b[0;34m,\u001b[0m \u001b[0mdA0\u001b[0m\u001b[0;34m\u001b[0m\u001b[0;34m\u001b[0m\u001b[0m\n\u001b[1;32m    441\u001b[0m \u001b[0;34m\u001b[0m\u001b[0m\n",
            "\u001b[0;31mKeyboardInterrupt\u001b[0m: "
          ]
        }
      ]
    },
    {
      "cell_type": "code",
      "metadata": {
        "id": "aGAyQxO7zqSG"
      },
      "source": [
        "test_word(\"abcdefghijklmnopqrstuvwxyz\", interactive = False, num_hidden=1, num_steps=10000, step_size=0.005)"
      ],
      "execution_count": null,
      "outputs": []
    },
    {
      "cell_type": "code",
      "metadata": {
        "id": "9BI7pgDbzsim"
      },
      "source": [
        "test_word(\"abcabcabcabcabc\", interactive = False, num_hidden=1, num_steps=10000, step_size=0.005)"
      ],
      "execution_count": null,
      "outputs": []
    },
    {
      "cell_type": "markdown",
      "metadata": {
        "id": "zuA9fE44zdUb"
      },
      "source": [
        "## Problem 3D\n",
        "\n",
        "The *test_class_names* function uses a file <a href=\"https://docs.google.com/document/d/1X1CxoreisEHRSwFDzbh3SxnBbTOILNbVbjD_Ef0fx9k/edit?usp=sharing\">MIT_classes.txt</a> (which is a collection of names of classes taught at MIT) for training\n",
        "and generates new names. Experiment with different values of num_steps; more steps gives better results. Try it in interactive mode; it's more fun. Note the difference between starting with a capital letter versus lower case letter.\n",
        "\n",
        "**In running *test_class_names*, first try with *train=True*; you can train the RNN yourself with this option. If this takes too much time, run  *test_class_names* with *train=False*; you can simply load a pre-trained model with this option. **\n",
        "\n"
      ]
    },
    {
      "cell_type": "code",
      "metadata": {
        "id": "oj8wsxKr18Mj"
      },
      "source": [
        "test_class_names(interactive = True, interactive_top5 = False,\n",
        "           split=0, num_hidden = 150,\n",
        "           num_steps = 20000, step_size = .001, train=True)"
      ],
      "execution_count": null,
      "outputs": []
    },
    {
      "cell_type": "code",
      "metadata": {
        "id": "ZEwfEUrzx2zr"
      },
      "source": [
        "test_class_names(interactive = True, interactive_top5 = False,\n",
        "           split=0, num_hidden = 150,\n",
        "           num_steps = 20000, step_size = .001, train=False)"
      ],
      "execution_count": null,
      "outputs": []
    },
    {
      "cell_type": "markdown",
      "metadata": {
        "id": "rxC8sgJV0WOP"
      },
      "source": [
        "## Problem 3E\n",
        "\n",
        "The *test_food* function uses a file <a href=\"https://docs.google.com/spreadsheets/d/12eomCfekSdqTlOB4Xwp3n7_FN0SVdVrTDLVUBq-1jyw/edit?usp=sharing\">food.txt</a> of recipe names. Experiment with different values of num_steps; more steps gives better results. Try it in interactive mode; it's more fun. Note the difference between starting with a capital letter versus lower case letter.\n",
        "\n",
        "**In running *test_food*, first try with *train=True*; you can train the RNN yourself with this option. If this takes too much time, run  *test_food* with *train=False*; you can simply load a pre-trained model with this option. **\n",
        "\n"
      ]
    },
    {
      "cell_type": "code",
      "metadata": {
        "id": "T-G-bm0p1_FT"
      },
      "source": [
        "test_food(interactive = True, interactive_top5 = False,\n",
        "          split=0, num_hidden = 150,\n",
        "          num_steps = 20000, step_size = .001, train=True)"
      ],
      "execution_count": null,
      "outputs": []
    },
    {
      "cell_type": "code",
      "metadata": {
        "id": "pHRpZudK0iye"
      },
      "source": [
        "test_food(interactive = True, interactive_top5 = False,\n",
        "          split=0, num_hidden = 150,\n",
        "          num_steps = 20000, step_size = .001, train=False)"
      ],
      "execution_count": null,
      "outputs": []
    },
    {
      "cell_type": "markdown",
      "metadata": {
        "id": "9eFwDWYXVB15"
      },
      "source": [
        "## Problem 3F\n",
        "\n",
        "The <code>test_comapny_names</code> function uses the file <a href=\"https://docs.google.com/spreadsheets/d/16wbhwRwu5AP4gydX9buHZj884v48HURaalYtKmdT8r0/edit?usp=sharing\">companies.txt</a> of company names. Experiment with different\n",
        "values of num_steps; more steps gives better results.  Try it in\n",
        "interactive mode, by setting <code>interactive=True</code> but still set <code>interactive_top5=False</code>; it's more fun. Note the difference between starting\n",
        "with a capital letter versus lower case letter.\n",
        "\n",
        "**In running *test_company_names*, first try with *train=True*; you can train the RNN yourself with this option. If this takes too much time, run  *test_company_names* with *train=False*; you can simply load a pre-trained model with this option. **\n",
        "\n"
      ]
    },
    {
      "cell_type": "code",
      "metadata": {
        "id": "U0gURYiSvgXk"
      },
      "source": [
        "test_company_names(interactive = True, interactive_top5 = False,\n",
        "          split=0, num_hidden = 150,\n",
        "          num_steps = 20000, step_size = .001, train=True)"
      ],
      "execution_count": null,
      "outputs": []
    },
    {
      "cell_type": "code",
      "metadata": {
        "id": "J7BIAXvSvge0"
      },
      "source": [
        "test_company_names(interactive = True, interactive_top5 = False,\n",
        "          split=0, num_hidden = 150,\n",
        "          num_steps = 20000, step_size = .001, train=False)"
      ],
      "execution_count": null,
      "outputs": []
    },
    {
      "cell_type": "markdown",
      "metadata": {
        "id": "BFYBVV4Svfsh"
      },
      "source": [
        "## Problem 3G\n",
        "\n",
        "Now run one of <code>test_class_names, test_food, test_comapny_names</code> with <code>interactive_top5=True</code>; play with them for a while. Can you notice the mechanism of how these functions generate their output?\n",
        "\n",
        "Use the cell below to run one of <code>test_class_names, test_food, test_comapny_names</code> with <code>interactive_top5=True</code>!"
      ]
    },
    {
      "cell_type": "code",
      "metadata": {
        "id": "m4ry0vweVOl-",
        "colab": {
          "base_uri": "https://localhost:8080/"
        },
        "outputId": "afaa6272-6bd1-4fbb-f7b0-d6de9db8b1c1"
      },
      "source": [
        "test_class_names(interactive = True, interactive_top5 = True, split=0, num_hidden = 150, num_steps = 20000, step_size = .001, train=False)"
      ],
      "execution_count": 9,
      "outputs": [
        {
          "output_type": "stream",
          "name": "stdout",
          "text": [
            "Starting string: o\n",
            "We recommend that you type one of the top 5 most frequent alphabets that follow 'o' :  ['f', 'n', 'l', 'r', 'd']\n",
            "Next character after 'o' : f\n",
            "We recommend that you type one of the top 5 most frequent alphabets that follow 'of' :  [' ', 's', 'd', 'e', 'o']\n",
            "Next character after 'of' :  \n",
            "We recommend that you type one of the top 5 most frequent alphabets that follow 'of ' :  ['M', 'A', 'S', 'G', 'C']\n",
            "Next character after 'of ' : M\n",
            "We recommend that you type one of the top 5 most frequent alphabets that follow 'of M' :  ['a', 'e', 'o', 'u', 'i']\n",
            "Next character after 'of M' : a\n",
            "We recommend that you type one of the top 5 most frequent alphabets that follow 'of Ma' :  ['t', 'n', 'c', 'd', 'r']\n",
            "Next character after 'of Ma' : t\n",
            "We recommend that you type one of the top 5 most frequent alphabets that follow 'of Mat' :  ['e', 'h', 'i', 'a', 'r']\n",
            "Next character after 'of Mat' : e\n",
            "We recommend that you type one of the top 5 most frequent alphabets that follow 'of Mate' :  ['r', ' ', 'l', 'd', 'n']\n",
            "Next character after 'of Mate' : r\n",
            "We recommend that you type one of the top 5 most frequent alphabets that follow 'of Mater' :  ['i', 'b', '\\n', 't', ' ']\n",
            "Next character after 'of Mater' : i\n",
            "We recommend that you type one of the top 5 most frequent alphabets that follow 'of Materi' :  ['a', 's', 'n', 'o', 'c']\n",
            "Next character after 'of Materi' : a\n",
            "We recommend that you type one of the top 5 most frequent alphabets that follow 'of Materia' :  ['l', 't', 'm', ' ', '\\n']\n",
            "Next character after 'of Materia' : s\n",
            "We recommend that you type one of the top 5 most frequent alphabets that follow 'of Materias' :  ['s', '\\n', 'i', ' ', 't']\n",
            "Next character after 'of Materias' : s\n",
            "Your final result is :  of Materiass\n"
          ]
        },
        {
          "output_type": "execute_result",
          "data": {
            "text/plain": [
              "(<code_for_lab11.RNN at 0x79f138287370>,\n",
              " <code_for_lab11.OneHotCodec at 0x79f138287430>)"
            ]
          },
          "metadata": {},
          "execution_count": 9
        }
      ]
    },
    {
      "cell_type": "code",
      "metadata": {
        "id": "Ug4mvoGaVeKR",
        "colab": {
          "base_uri": "https://localhost:8080/",
          "height": 584
        },
        "outputId": "373d7723-d40b-4c93-e13f-386e3cbaeb95"
      },
      "source": [
        "test_food(interactive = True, interactive_top5 = True, split=0, num_hidden = 150, num_steps = 20000, step_size = .001, train=False)"
      ],
      "execution_count": 7,
      "outputs": [
        {
          "output_type": "stream",
          "name": "stdout",
          "text": [
            "Starting string: c\n",
            "We recommend that you type one of the top 5 most frequent alphabets that follow 'c' :  ['h', 'o', 'a', 'i', 'u']\n",
            "Next character after 'c' : h\n",
            "We recommend that you type one of the top 5 most frequent alphabets that follow 'ch' :  ['i', 'e', 'a', 'o', 'r']\n",
            "Next character after 'ch' : i\n",
            "We recommend that you type one of the top 5 most frequent alphabets that follow 'chi' :  ['c', 'p', 'n', 's', 'v']\n",
            "Next character after 'chi' : c\n",
            "We recommend that you type one of the top 5 most frequent alphabets that follow 'chic' :  ['k', 'i', 'e', ' ', 'h']\n",
            "Next character after 'chic' : k\n",
            "We recommend that you type one of the top 5 most frequent alphabets that follow 'chick' :  ['e', ' ', 'i', 's', 'o']\n",
            "Next character after 'chick' : e\n",
            "We recommend that you type one of the top 5 most frequent alphabets that follow 'chicke' :  ['n', 't', 's', 'd', 'r']\n",
            "Next character after 'chicke' : n\n",
            "We recommend that you type one of the top 5 most frequent alphabets that follow 'chicken' :  [' ', '\\n', 's', 'i', 'e']\n"
          ]
        },
        {
          "output_type": "error",
          "ename": "KeyboardInterrupt",
          "evalue": "Interrupted by user",
          "traceback": [
            "\u001b[0;31m---------------------------------------------------------------------------\u001b[0m",
            "\u001b[0;31mKeyboardInterrupt\u001b[0m                         Traceback (most recent call last)",
            "\u001b[0;32m<ipython-input-7-e558a37efe41>\u001b[0m in \u001b[0;36m<cell line: 1>\u001b[0;34m()\u001b[0m\n\u001b[0;32m----> 1\u001b[0;31m \u001b[0mtest_food\u001b[0m\u001b[0;34m(\u001b[0m\u001b[0minteractive\u001b[0m \u001b[0;34m=\u001b[0m \u001b[0;32mTrue\u001b[0m\u001b[0;34m,\u001b[0m \u001b[0minteractive_top5\u001b[0m \u001b[0;34m=\u001b[0m \u001b[0;32mTrue\u001b[0m\u001b[0;34m,\u001b[0m \u001b[0msplit\u001b[0m\u001b[0;34m=\u001b[0m\u001b[0;36m0\u001b[0m\u001b[0;34m,\u001b[0m \u001b[0mnum_hidden\u001b[0m \u001b[0;34m=\u001b[0m \u001b[0;36m150\u001b[0m\u001b[0;34m,\u001b[0m \u001b[0mnum_steps\u001b[0m \u001b[0;34m=\u001b[0m \u001b[0;36m20000\u001b[0m\u001b[0;34m,\u001b[0m \u001b[0mstep_size\u001b[0m \u001b[0;34m=\u001b[0m \u001b[0;36m.001\u001b[0m\u001b[0;34m,\u001b[0m \u001b[0mtrain\u001b[0m\u001b[0;34m=\u001b[0m\u001b[0;32mFalse\u001b[0m\u001b[0;34m)\u001b[0m\u001b[0;34m\u001b[0m\u001b[0;34m\u001b[0m\u001b[0m\n\u001b[0m",
            "\u001b[0;32m/content/code_for_lab11/code_for_lab11.py\u001b[0m in \u001b[0;36mtest_food\u001b[0;34m(interactive, interactive_top5, split, num_hidden, num_steps, step_size, train)\u001b[0m\n\u001b[1;32m    313\u001b[0m     \u001b[0;32melse\u001b[0m\u001b[0;34m:\u001b[0m\u001b[0;34m\u001b[0m\u001b[0;34m\u001b[0m\u001b[0m\n\u001b[1;32m    314\u001b[0m         \u001b[0min_file\u001b[0m \u001b[0;34m=\u001b[0m \u001b[0;34m'models/food_rnn.p'\u001b[0m\u001b[0;34m\u001b[0m\u001b[0;34m\u001b[0m\u001b[0m\n\u001b[0;32m--> 315\u001b[0;31m         return load_seq(data, in_file, interactive = interactive, interactive_top5 = interactive_top5, split=split,\n\u001b[0m\u001b[1;32m    316\u001b[0m                             num_hidden=num_hidden, num_steps=num_steps, step_size=step_size)\n\u001b[1;32m    317\u001b[0m \u001b[0;34m\u001b[0m\u001b[0m\n",
            "\u001b[0;32m/content/code_for_lab11/code_for_lab11.py\u001b[0m in \u001b[0;36mload_seq\u001b[0;34m(words, in_file, interactive, interactive_top5, num_steps, step_size, num_hidden, split)\u001b[0m\n\u001b[1;32m    237\u001b[0m             \u001b[0mrnn\u001b[0m\u001b[0;34m.\u001b[0m\u001b[0mgen_seq_interactive\u001b[0m\u001b[0;34m(\u001b[0m\u001b[0mcodec\u001b[0m\u001b[0;34m)\u001b[0m\u001b[0;34m\u001b[0m\u001b[0;34m\u001b[0m\u001b[0m\n\u001b[1;32m    238\u001b[0m     \u001b[0;32melif\u001b[0m \u001b[0minteractive_top5\u001b[0m\u001b[0;34m:\u001b[0m\u001b[0;34m\u001b[0m\u001b[0;34m\u001b[0m\u001b[0m\n\u001b[0;32m--> 239\u001b[0;31m         \u001b[0mrnn\u001b[0m\u001b[0;34m.\u001b[0m\u001b[0mgen_seq_interactive_top5\u001b[0m\u001b[0;34m(\u001b[0m\u001b[0mcodec\u001b[0m\u001b[0;34m)\u001b[0m\u001b[0;34m\u001b[0m\u001b[0;34m\u001b[0m\u001b[0m\n\u001b[0m\u001b[1;32m    240\u001b[0m     \u001b[0;32melse\u001b[0m\u001b[0;34m:\u001b[0m\u001b[0;34m\u001b[0m\u001b[0;34m\u001b[0m\u001b[0m\n\u001b[1;32m    241\u001b[0m         \u001b[0;32mfor\u001b[0m \u001b[0m_\u001b[0m \u001b[0;32min\u001b[0m \u001b[0mrange\u001b[0m\u001b[0;34m(\u001b[0m\u001b[0;36m100\u001b[0m\u001b[0;34m)\u001b[0m\u001b[0;34m:\u001b[0m\u001b[0;34m\u001b[0m\u001b[0;34m\u001b[0m\u001b[0m\n",
            "\u001b[0;32m/content/code_for_lab11/code_for_lab11.py\u001b[0m in \u001b[0;36mgen_seq_interactive_top5\u001b[0;34m(self, codec, seq_len, maximize)\u001b[0m\n\u001b[1;32m    600\u001b[0m             \u001b[0;31m#print(\"The argmax is :\", c)\u001b[0m\u001b[0;34m\u001b[0m\u001b[0;34m\u001b[0m\u001b[0m\n\u001b[1;32m    601\u001b[0m             \u001b[0mprint\u001b[0m\u001b[0;34m(\u001b[0m\u001b[0;34m\"We recommend that you type one of the top 5 most frequent alphabets that follow '\"\u001b[0m \u001b[0;34m+\u001b[0m \u001b[0mstr\u001b[0m\u001b[0;34m(\u001b[0m\u001b[0mresult\u001b[0m\u001b[0;34m)\u001b[0m \u001b[0;34m+\u001b[0m \u001b[0;34m\"' : \"\u001b[0m\u001b[0;34m,\u001b[0m \u001b[0mc_top5\u001b[0m\u001b[0;34m)\u001b[0m\u001b[0;34m\u001b[0m\u001b[0;34m\u001b[0m\u001b[0m\n\u001b[0;32m--> 602\u001b[0;31m             \u001b[0mnext_character\u001b[0m \u001b[0;34m=\u001b[0m \u001b[0minput\u001b[0m\u001b[0;34m(\u001b[0m\u001b[0;34m\"Next character after '\"\u001b[0m \u001b[0;34m+\u001b[0m \u001b[0mstr\u001b[0m\u001b[0;34m(\u001b[0m\u001b[0mresult\u001b[0m\u001b[0;34m)\u001b[0m \u001b[0;34m+\u001b[0m \u001b[0;34m\"' : \"\u001b[0m\u001b[0;34m)\u001b[0m\u001b[0;34m\u001b[0m\u001b[0;34m\u001b[0m\u001b[0m\n\u001b[0m\u001b[1;32m    603\u001b[0m             \u001b[0mresult\u001b[0m \u001b[0;34m=\u001b[0m \u001b[0mresult\u001b[0m \u001b[0;34m+\u001b[0m \u001b[0mnext_character\u001b[0m\u001b[0;34m\u001b[0m\u001b[0;34m\u001b[0m\u001b[0m\n\u001b[1;32m    604\u001b[0m             \u001b[0mx\u001b[0m \u001b[0;34m=\u001b[0m \u001b[0mcodec\u001b[0m\u001b[0;34m.\u001b[0m\u001b[0mencode\u001b[0m\u001b[0;34m(\u001b[0m\u001b[0mnext_character\u001b[0m\u001b[0;34m)\u001b[0m\u001b[0;34m\u001b[0m\u001b[0;34m\u001b[0m\u001b[0m\n",
            "\u001b[0;32m/usr/local/lib/python3.10/dist-packages/ipykernel/kernelbase.py\u001b[0m in \u001b[0;36mraw_input\u001b[0;34m(self, prompt)\u001b[0m\n\u001b[1;32m    849\u001b[0m                 \u001b[0;34m\"raw_input was called, but this frontend does not support input requests.\"\u001b[0m\u001b[0;34m\u001b[0m\u001b[0;34m\u001b[0m\u001b[0m\n\u001b[1;32m    850\u001b[0m             )\n\u001b[0;32m--> 851\u001b[0;31m         return self._input_request(str(prompt),\n\u001b[0m\u001b[1;32m    852\u001b[0m             \u001b[0mself\u001b[0m\u001b[0;34m.\u001b[0m\u001b[0m_parent_ident\u001b[0m\u001b[0;34m,\u001b[0m\u001b[0;34m\u001b[0m\u001b[0;34m\u001b[0m\u001b[0m\n\u001b[1;32m    853\u001b[0m             \u001b[0mself\u001b[0m\u001b[0;34m.\u001b[0m\u001b[0m_parent_header\u001b[0m\u001b[0;34m,\u001b[0m\u001b[0;34m\u001b[0m\u001b[0;34m\u001b[0m\u001b[0m\n",
            "\u001b[0;32m/usr/local/lib/python3.10/dist-packages/ipykernel/kernelbase.py\u001b[0m in \u001b[0;36m_input_request\u001b[0;34m(self, prompt, ident, parent, password)\u001b[0m\n\u001b[1;32m    893\u001b[0m             \u001b[0;32mexcept\u001b[0m \u001b[0mKeyboardInterrupt\u001b[0m\u001b[0;34m:\u001b[0m\u001b[0;34m\u001b[0m\u001b[0;34m\u001b[0m\u001b[0m\n\u001b[1;32m    894\u001b[0m                 \u001b[0;31m# re-raise KeyboardInterrupt, to truncate traceback\u001b[0m\u001b[0;34m\u001b[0m\u001b[0;34m\u001b[0m\u001b[0m\n\u001b[0;32m--> 895\u001b[0;31m                 \u001b[0;32mraise\u001b[0m \u001b[0mKeyboardInterrupt\u001b[0m\u001b[0;34m(\u001b[0m\u001b[0;34m\"Interrupted by user\"\u001b[0m\u001b[0;34m)\u001b[0m \u001b[0;32mfrom\u001b[0m \u001b[0;32mNone\u001b[0m\u001b[0;34m\u001b[0m\u001b[0;34m\u001b[0m\u001b[0m\n\u001b[0m\u001b[1;32m    896\u001b[0m             \u001b[0;32mexcept\u001b[0m \u001b[0mException\u001b[0m \u001b[0;32mas\u001b[0m \u001b[0me\u001b[0m\u001b[0;34m:\u001b[0m\u001b[0;34m\u001b[0m\u001b[0;34m\u001b[0m\u001b[0m\n\u001b[1;32m    897\u001b[0m                 \u001b[0mself\u001b[0m\u001b[0;34m.\u001b[0m\u001b[0mlog\u001b[0m\u001b[0;34m.\u001b[0m\u001b[0mwarning\u001b[0m\u001b[0;34m(\u001b[0m\u001b[0;34m\"Invalid Message:\"\u001b[0m\u001b[0;34m,\u001b[0m \u001b[0mexc_info\u001b[0m\u001b[0;34m=\u001b[0m\u001b[0;32mTrue\u001b[0m\u001b[0;34m)\u001b[0m\u001b[0;34m\u001b[0m\u001b[0;34m\u001b[0m\u001b[0m\n",
            "\u001b[0;31mKeyboardInterrupt\u001b[0m: Interrupted by user"
          ]
        }
      ]
    },
    {
      "cell_type": "code",
      "metadata": {
        "id": "c3R3Hmu0xvht",
        "colab": {
          "base_uri": "https://localhost:8080/"
        },
        "outputId": "0a1bcd35-785e-47fd-dee2-24e8889cf8ac"
      },
      "source": [
        "test_company_names(interactive = True, interactive_top5 = True, split=0, num_hidden = 150, num_steps = 20000, step_size = .001, train=False)"
      ],
      "execution_count": 8,
      "outputs": [
        {
          "output_type": "stream",
          "name": "stdout",
          "text": [
            "Starting string: a\n",
            "We recommend that you type one of the top 5 most frequent alphabets that follow 'a' :  ['r', 'n', 'l', 't', 'c']\n",
            "Next character after 'a' : q\n",
            "We recommend that you type one of the top 5 most frequent alphabets that follow 'aq' :  ['u', 'i', 'e', 'l', 's']\n",
            "Next character after 'aq' : u\n",
            "We recommend that you type one of the top 5 most frequent alphabets that follow 'aqu' :  ['i', 'a', 'e', 'o', 't']\n",
            "Next character after 'aqu' : i\n",
            "We recommend that you type one of the top 5 most frequent alphabets that follow 'aqui' :  ['c', 'n', 's', 'd', 'l']\n",
            "Next character after 'aqui' : c\n",
            "We recommend that you type one of the top 5 most frequent alphabets that follow 'aquic' :  ['a', 'o', 'i', 'e', 'y']\n",
            "Next character after 'aquic' : a\n",
            "We recommend that you type one of the top 5 most frequent alphabets that follow 'aquica' :  ['n', 'l', ' ', 't', 'm']\n",
            "Next character after 'aquica' : n\n",
            "We recommend that you type one of the top 5 most frequent alphabets that follow 'aquican' :  [' ', 'e', 't', '\\n', 'd']\n",
            "Next character after 'aquican' :  \n",
            "We recommend that you type one of the top 5 most frequent alphabets that follow 'aquican ' :  ['C', 'S', 'A', 'B', 'F']\n",
            "Next character after 'aquican ' : C\n",
            "We recommend that you type one of the top 5 most frequent alphabets that follow 'aquican C' :  ['o', 'a', 'e', 'h', 'u']\n",
            "Next character after 'aquican C' : o\n",
            "We recommend that you type one of the top 5 most frequent alphabets that follow 'aquican Co' :  ['m', 'r', 'p', 'n', 'w']\n",
            "Next character after 'aquican Co' : m\n",
            "We recommend that you type one of the top 5 most frequent alphabets that follow 'aquican Com' :  ['p', 'm', 'b', 'e', 'i']\n",
            "Next character after 'aquican Com' : p\n",
            "We recommend that you type one of the top 5 most frequent alphabets that follow 'aquican Comp' :  ['u', 'o', 'a', 'e', '.']\n",
            "Next character after 'aquican Comp' : u\n",
            "We recommend that you type one of the top 5 most frequent alphabets that follow 'aquican Compu' :  ['n', 'r', 't', 'c', 'l']\n",
            "Next character after 'aquican Compu' : n\n",
            "We recommend that you type one of the top 5 most frequent alphabets that follow 'aquican Compun' :  ['i', 'a', 'y', 'e', 't']\n",
            "Next character after 'aquican Compun' : i\n",
            "We recommend that you type one of the top 5 most frequent alphabets that follow 'aquican Compuni' :  ['c', 't', 'e', 'n', 'm']\n",
            "Next character after 'aquican Compuni' : c\n",
            "We recommend that you type one of the top 5 most frequent alphabets that follow 'aquican Compunic' :  ['a', 's', 'y', 'e', 'i']\n",
            "Next character after 'aquican Compunic' : a\n",
            "We recommend that you type one of the top 5 most frequent alphabets that follow 'aquican Compunica' :  ['l', 't', '\\n', 'n', 's']\n",
            "Next character after 'aquican Compunica' : l\n",
            "Your final result is :  aquican Compunical\n"
          ]
        },
        {
          "output_type": "execute_result",
          "data": {
            "text/plain": [
              "(<code_for_lab11.RNN at 0x79f13815f910>,\n",
              " <code_for_lab11.OneHotCodec at 0x79f13815cf40>)"
            ]
          },
          "metadata": {},
          "execution_count": 8
        }
      ]
    }
  ]
}